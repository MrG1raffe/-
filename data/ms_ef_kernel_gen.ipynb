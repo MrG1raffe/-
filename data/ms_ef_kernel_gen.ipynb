{
 "cells": [
  {
   "cell_type": "code",
   "execution_count": 16,
   "metadata": {},
   "outputs": [],
   "source": [
    "import numpy as np\n",
    "from scipy.stats import norm"
   ]
  },
  {
   "cell_type": "code",
   "execution_count": 35,
   "metadata": {},
   "outputs": [
    {
     "data": {
      "text/plain": [
       "array([-1.78567821, -0.59442307, -0.41832761, -0.20823497,  0.35441161,\n",
       "        0.60052261,  0.61674911,  0.95023025,  2.2047675 ,  2.95128481])"
      ]
     },
     "execution_count": 35,
     "metadata": {},
     "output_type": "execute_result"
    }
   ],
   "source": [
    "N = 10\n",
    "smpl = np.random.standard_cauchy(N)\n",
    "smpl.sort()\n",
    "smpl"
   ]
  },
  {
   "cell_type": "code",
   "execution_count": 36,
   "metadata": {},
   "outputs": [],
   "source": [
    "def ker_func(x):\n",
    "    res = 0\n",
    "    for i in smpl:\n",
    "        res += norm.cdf(x - i)\n",
    "    res /= N\n",
    "    return res"
   ]
  },
  {
   "cell_type": "code",
   "execution_count": 39,
   "metadata": {},
   "outputs": [],
   "source": [
    "x = -4\n",
    "xmax = 4\n",
    "nsamples = 200\n",
    "dx = (xmax - x) / nsamples\n",
    "\n",
    "fker = open('ms_ef_ker_ker.dat', 'w')\n",
    "\n",
    "for i in range(0, nsamples):\n",
    "    fker.write(str(x) + ' ' + str(ker_func(x)) + '\\n')\n",
    "    x += dx\n",
    "    \n",
    "fker.close()"
   ]
  },
  {
   "cell_type": "code",
   "execution_count": 38,
   "metadata": {},
   "outputs": [],
   "source": [
    "find = open('ms_ef_ker_ind.dat', 'w')\n",
    "y = 0\n",
    "find.write('-4 0\\n')\n",
    "for i in smpl:\n",
    "    find.write(str(i) + ' ' + str(y) + '\\n')\n",
    "    y += 1 / N\n",
    "find.write('4 1\\n')\n",
    "find.close()"
   ]
  },
  {
   "cell_type": "code",
   "execution_count": null,
   "metadata": {},
   "outputs": [],
   "source": []
  }
 ],
 "metadata": {
  "kernelspec": {
   "display_name": "Python 3",
   "language": "python",
   "name": "python3"
  },
  "language_info": {
   "codemirror_mode": {
    "name": "ipython",
    "version": 3
   },
   "file_extension": ".py",
   "mimetype": "text/x-python",
   "name": "python",
   "nbconvert_exporter": "python",
   "pygments_lexer": "ipython3",
   "version": "3.7.3"
  }
 },
 "nbformat": 4,
 "nbformat_minor": 2
}
