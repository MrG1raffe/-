{
 "cells": [
  {
   "cell_type": "code",
   "execution_count": 34,
   "metadata": {},
   "outputs": [],
   "source": [
    "import numpy as np"
   ]
  },
  {
   "cell_type": "code",
   "execution_count": 40,
   "metadata": {},
   "outputs": [
    {
     "data": {
      "text/plain": [
       "array([ 0.49040789, -0.30412726,  0.95738156,  0.05735634,  0.67039766,\n",
       "        1.85663606, -0.00773582,  0.69396641,  0.52312254, -1.09185361,\n",
       "        1.41762126,  0.26534718, -0.19982706,  0.48118099, -0.33324536,\n",
       "        0.07189428,  0.67669724, -1.00469173,  0.67889632,  0.46326128,\n",
       "       -0.85001383, -1.22392864,  1.54916753, -1.40648551,  0.39140366])"
      ]
     },
     "execution_count": 40,
     "metadata": {},
     "output_type": "execute_result"
    }
   ],
   "source": [
    "N = 25\n",
    "smpl = np.random.normal(0, 1, N)\n",
    "smpl"
   ]
  },
  {
   "cell_type": "code",
   "execution_count": 41,
   "metadata": {},
   "outputs": [],
   "source": [
    "smpl.sort()\n",
    "f = open('ms_emp_func_sample.dat', 'w')\n",
    "y = 0\n",
    "f.write('-4 0\\n')\n",
    "for i in smpl:\n",
    "    f.write(str(i) + ' ' + str(y) + '\\n')\n",
    "    y += 1 / N\n",
    "f.write('4 1\\n')\n",
    "f.close()"
   ]
  },
  {
   "cell_type": "code",
   "execution_count": 42,
   "metadata": {},
   "outputs": [],
   "source": [
    "import scipy.special"
   ]
  },
  {
   "cell_type": "code",
   "execution_count": 43,
   "metadata": {},
   "outputs": [],
   "source": [
    "f = open('ms_normal_distr_func.dat', 'w')\n",
    "nsamples = 200\n",
    "xmin = -3.1\n",
    "xmax = 3.1\n",
    "delta = (xmax - xmin) / nsamples\n",
    "for i in range(0, nsamples):\n",
    "    f.write(str(xmin) + ' ' + str(0.5 + 0.5 * scipy.special.erf(xmin / (2 ** 0.5))) + '\\n')\n",
    "    xmin += delta\n",
    "f.close()"
   ]
  },
  {
   "cell_type": "code",
   "execution_count": 44,
   "metadata": {},
   "outputs": [],
   "source": [
    "to_low = open('ms_sample_lower.dat', 'w')\n",
    "to_up = open('ms_sample_upper.dat', 'w')\n",
    "to_low.write('-4 -0.214\\n')\n",
    "to_up.write('-4 0.214\\n')\n",
    "y = 0\n",
    "for i in smpl:\n",
    "    to_low.write(str(i) + ' ' + str(y - 0.214) + '\\n')\n",
    "    to_up.write(str(i) + ' ' + str(y + 0.214) + '\\n')\n",
    "    y += 1 / N\n",
    "to_low.write('4 0.786\\n')\n",
    "to_up.write('4 1.214\\n')\n",
    "to_up.close()\n",
    "to_low.close()"
   ]
  },
  {
   "cell_type": "code",
   "execution_count": null,
   "metadata": {},
   "outputs": [],
   "source": []
  }
 ],
 "metadata": {
  "kernelspec": {
   "display_name": "Python 3",
   "language": "python",
   "name": "python3"
  },
  "language_info": {
   "codemirror_mode": {
    "name": "ipython",
    "version": 3
   },
   "file_extension": ".py",
   "mimetype": "text/x-python",
   "name": "python",
   "nbconvert_exporter": "python",
   "pygments_lexer": "ipython3",
   "version": "3.7.3"
  }
 },
 "nbformat": 4,
 "nbformat_minor": 2
}
